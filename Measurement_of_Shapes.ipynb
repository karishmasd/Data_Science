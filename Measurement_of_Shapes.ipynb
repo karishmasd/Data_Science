{
  "nbformat": 4,
  "nbformat_minor": 0,
  "metadata": {
    "colab": {
      "provenance": [],
      "mount_file_id": "1SVRnK_nDoDZxu3Lx_aTaDaFLSXgKYgP2",
      "authorship_tag": "ABX9TyPsK3vifqaNK6Z4t2s4ASoJ",
      "include_colab_link": true
    },
    "kernelspec": {
      "name": "python3",
      "display_name": "Python 3"
    },
    "language_info": {
      "name": "python"
    }
  },
  "cells": [
    {
      "cell_type": "markdown",
      "metadata": {
        "id": "view-in-github",
        "colab_type": "text"
      },
      "source": [
        "<a href=\"https://colab.research.google.com/github/karishmasd/Data_Science/blob/main/Measurement_of_Shapes.ipynb\" target=\"_parent\"><img src=\"https://colab.research.google.com/assets/colab-badge.svg\" alt=\"Open In Colab\"/></a>"
      ]
    },
    {
      "cell_type": "markdown",
      "source": [
        "#**Skewness**"
      ],
      "metadata": {
        "id": "iniKi8lJa9vq"
      }
    },
    {
      "cell_type": "code",
      "execution_count": null,
      "metadata": {
        "id": "Yb5zpjpbJrEf"
      },
      "outputs": [],
      "source": [
        "import numpy as np\n",
        "import pandas as pd\n",
        "import matplotlib.pyplot as plt\n",
        "import seaborn as sns\n"
      ]
    },
    {
      "cell_type": "code",
      "source": [
        "data=pd.read_csv('/content/drive/MyDrive/open_units.csv')"
      ],
      "metadata": {
        "id": "Tv0rqi6_aJqk"
      },
      "execution_count": null,
      "outputs": []
    },
    {
      "cell_type": "code",
      "source": [
        "data.head(2)"
      ],
      "metadata": {
        "colab": {
          "base_uri": "https://localhost:8080/",
          "height": 181
        },
        "id": "rigHsSXFagAF",
        "outputId": "e1013a7f-f445-4bd1-ecce-84086fda25a4"
      },
      "execution_count": null,
      "outputs": [
        {
          "output_type": "execute_result",
          "data": {
            "text/plain": [
              "   Product       Brand Category Style  Quantity Quantity Units  Volume  \\\n",
              "0  13 Guns  Crafty Dan     Beer   IPA       330             ml     330   \n",
              "1  13 Guns  Crafty Dan     Beer   IPA       330             ml     330   \n",
              "\n",
              "  Package  ABV  Units of Alcohol  Units (4 Decimal Places)  Units per 100ml  \n",
              "0  bottle  5.5               1.8                     1.815             0.55  \n",
              "1     can  5.5               1.8                     1.815             0.55  "
            ],
            "text/html": [
              "\n",
              "  <div id=\"df-b48d64a8-a545-4212-99fa-1a3dfd981fcb\" class=\"colab-df-container\">\n",
              "    <div>\n",
              "<style scoped>\n",
              "    .dataframe tbody tr th:only-of-type {\n",
              "        vertical-align: middle;\n",
              "    }\n",
              "\n",
              "    .dataframe tbody tr th {\n",
              "        vertical-align: top;\n",
              "    }\n",
              "\n",
              "    .dataframe thead th {\n",
              "        text-align: right;\n",
              "    }\n",
              "</style>\n",
              "<table border=\"1\" class=\"dataframe\">\n",
              "  <thead>\n",
              "    <tr style=\"text-align: right;\">\n",
              "      <th></th>\n",
              "      <th>Product</th>\n",
              "      <th>Brand</th>\n",
              "      <th>Category</th>\n",
              "      <th>Style</th>\n",
              "      <th>Quantity</th>\n",
              "      <th>Quantity Units</th>\n",
              "      <th>Volume</th>\n",
              "      <th>Package</th>\n",
              "      <th>ABV</th>\n",
              "      <th>Units of Alcohol</th>\n",
              "      <th>Units (4 Decimal Places)</th>\n",
              "      <th>Units per 100ml</th>\n",
              "    </tr>\n",
              "  </thead>\n",
              "  <tbody>\n",
              "    <tr>\n",
              "      <th>0</th>\n",
              "      <td>13 Guns</td>\n",
              "      <td>Crafty Dan</td>\n",
              "      <td>Beer</td>\n",
              "      <td>IPA</td>\n",
              "      <td>330</td>\n",
              "      <td>ml</td>\n",
              "      <td>330</td>\n",
              "      <td>bottle</td>\n",
              "      <td>5.5</td>\n",
              "      <td>1.8</td>\n",
              "      <td>1.815</td>\n",
              "      <td>0.55</td>\n",
              "    </tr>\n",
              "    <tr>\n",
              "      <th>1</th>\n",
              "      <td>13 Guns</td>\n",
              "      <td>Crafty Dan</td>\n",
              "      <td>Beer</td>\n",
              "      <td>IPA</td>\n",
              "      <td>330</td>\n",
              "      <td>ml</td>\n",
              "      <td>330</td>\n",
              "      <td>can</td>\n",
              "      <td>5.5</td>\n",
              "      <td>1.8</td>\n",
              "      <td>1.815</td>\n",
              "      <td>0.55</td>\n",
              "    </tr>\n",
              "  </tbody>\n",
              "</table>\n",
              "</div>\n",
              "    <div class=\"colab-df-buttons\">\n",
              "\n",
              "  <div class=\"colab-df-container\">\n",
              "    <button class=\"colab-df-convert\" onclick=\"convertToInteractive('df-b48d64a8-a545-4212-99fa-1a3dfd981fcb')\"\n",
              "            title=\"Convert this dataframe to an interactive table.\"\n",
              "            style=\"display:none;\">\n",
              "\n",
              "  <svg xmlns=\"http://www.w3.org/2000/svg\" height=\"24px\" viewBox=\"0 -960 960 960\">\n",
              "    <path d=\"M120-120v-720h720v720H120Zm60-500h600v-160H180v160Zm220 220h160v-160H400v160Zm0 220h160v-160H400v160ZM180-400h160v-160H180v160Zm440 0h160v-160H620v160ZM180-180h160v-160H180v160Zm440 0h160v-160H620v160Z\"/>\n",
              "  </svg>\n",
              "    </button>\n",
              "\n",
              "  <style>\n",
              "    .colab-df-container {\n",
              "      display:flex;\n",
              "      gap: 12px;\n",
              "    }\n",
              "\n",
              "    .colab-df-convert {\n",
              "      background-color: #E8F0FE;\n",
              "      border: none;\n",
              "      border-radius: 50%;\n",
              "      cursor: pointer;\n",
              "      display: none;\n",
              "      fill: #1967D2;\n",
              "      height: 32px;\n",
              "      padding: 0 0 0 0;\n",
              "      width: 32px;\n",
              "    }\n",
              "\n",
              "    .colab-df-convert:hover {\n",
              "      background-color: #E2EBFA;\n",
              "      box-shadow: 0px 1px 2px rgba(60, 64, 67, 0.3), 0px 1px 3px 1px rgba(60, 64, 67, 0.15);\n",
              "      fill: #174EA6;\n",
              "    }\n",
              "\n",
              "    .colab-df-buttons div {\n",
              "      margin-bottom: 4px;\n",
              "    }\n",
              "\n",
              "    [theme=dark] .colab-df-convert {\n",
              "      background-color: #3B4455;\n",
              "      fill: #D2E3FC;\n",
              "    }\n",
              "\n",
              "    [theme=dark] .colab-df-convert:hover {\n",
              "      background-color: #434B5C;\n",
              "      box-shadow: 0px 1px 3px 1px rgba(0, 0, 0, 0.15);\n",
              "      filter: drop-shadow(0px 1px 2px rgba(0, 0, 0, 0.3));\n",
              "      fill: #FFFFFF;\n",
              "    }\n",
              "  </style>\n",
              "\n",
              "    <script>\n",
              "      const buttonEl =\n",
              "        document.querySelector('#df-b48d64a8-a545-4212-99fa-1a3dfd981fcb button.colab-df-convert');\n",
              "      buttonEl.style.display =\n",
              "        google.colab.kernel.accessAllowed ? 'block' : 'none';\n",
              "\n",
              "      async function convertToInteractive(key) {\n",
              "        const element = document.querySelector('#df-b48d64a8-a545-4212-99fa-1a3dfd981fcb');\n",
              "        const dataTable =\n",
              "          await google.colab.kernel.invokeFunction('convertToInteractive',\n",
              "                                                    [key], {});\n",
              "        if (!dataTable) return;\n",
              "\n",
              "        const docLinkHtml = 'Like what you see? Visit the ' +\n",
              "          '<a target=\"_blank\" href=https://colab.research.google.com/notebooks/data_table.ipynb>data table notebook</a>'\n",
              "          + ' to learn more about interactive tables.';\n",
              "        element.innerHTML = '';\n",
              "        dataTable['output_type'] = 'display_data';\n",
              "        await google.colab.output.renderOutput(dataTable, element);\n",
              "        const docLink = document.createElement('div');\n",
              "        docLink.innerHTML = docLinkHtml;\n",
              "        element.appendChild(docLink);\n",
              "      }\n",
              "    </script>\n",
              "  </div>\n",
              "\n",
              "\n",
              "    <div id=\"df-ab9b7a7f-f844-4c5b-b05c-18a0a164a69a\">\n",
              "      <button class=\"colab-df-quickchart\" onclick=\"quickchart('df-ab9b7a7f-f844-4c5b-b05c-18a0a164a69a')\"\n",
              "                title=\"Suggest charts\"\n",
              "                style=\"display:none;\">\n",
              "\n",
              "<svg xmlns=\"http://www.w3.org/2000/svg\" height=\"24px\"viewBox=\"0 0 24 24\"\n",
              "     width=\"24px\">\n",
              "    <g>\n",
              "        <path d=\"M19 3H5c-1.1 0-2 .9-2 2v14c0 1.1.9 2 2 2h14c1.1 0 2-.9 2-2V5c0-1.1-.9-2-2-2zM9 17H7v-7h2v7zm4 0h-2V7h2v10zm4 0h-2v-4h2v4z\"/>\n",
              "    </g>\n",
              "</svg>\n",
              "      </button>\n",
              "\n",
              "<style>\n",
              "  .colab-df-quickchart {\n",
              "      --bg-color: #E8F0FE;\n",
              "      --fill-color: #1967D2;\n",
              "      --hover-bg-color: #E2EBFA;\n",
              "      --hover-fill-color: #174EA6;\n",
              "      --disabled-fill-color: #AAA;\n",
              "      --disabled-bg-color: #DDD;\n",
              "  }\n",
              "\n",
              "  [theme=dark] .colab-df-quickchart {\n",
              "      --bg-color: #3B4455;\n",
              "      --fill-color: #D2E3FC;\n",
              "      --hover-bg-color: #434B5C;\n",
              "      --hover-fill-color: #FFFFFF;\n",
              "      --disabled-bg-color: #3B4455;\n",
              "      --disabled-fill-color: #666;\n",
              "  }\n",
              "\n",
              "  .colab-df-quickchart {\n",
              "    background-color: var(--bg-color);\n",
              "    border: none;\n",
              "    border-radius: 50%;\n",
              "    cursor: pointer;\n",
              "    display: none;\n",
              "    fill: var(--fill-color);\n",
              "    height: 32px;\n",
              "    padding: 0;\n",
              "    width: 32px;\n",
              "  }\n",
              "\n",
              "  .colab-df-quickchart:hover {\n",
              "    background-color: var(--hover-bg-color);\n",
              "    box-shadow: 0 1px 2px rgba(60, 64, 67, 0.3), 0 1px 3px 1px rgba(60, 64, 67, 0.15);\n",
              "    fill: var(--button-hover-fill-color);\n",
              "  }\n",
              "\n",
              "  .colab-df-quickchart-complete:disabled,\n",
              "  .colab-df-quickchart-complete:disabled:hover {\n",
              "    background-color: var(--disabled-bg-color);\n",
              "    fill: var(--disabled-fill-color);\n",
              "    box-shadow: none;\n",
              "  }\n",
              "\n",
              "  .colab-df-spinner {\n",
              "    border: 2px solid var(--fill-color);\n",
              "    border-color: transparent;\n",
              "    border-bottom-color: var(--fill-color);\n",
              "    animation:\n",
              "      spin 1s steps(1) infinite;\n",
              "  }\n",
              "\n",
              "  @keyframes spin {\n",
              "    0% {\n",
              "      border-color: transparent;\n",
              "      border-bottom-color: var(--fill-color);\n",
              "      border-left-color: var(--fill-color);\n",
              "    }\n",
              "    20% {\n",
              "      border-color: transparent;\n",
              "      border-left-color: var(--fill-color);\n",
              "      border-top-color: var(--fill-color);\n",
              "    }\n",
              "    30% {\n",
              "      border-color: transparent;\n",
              "      border-left-color: var(--fill-color);\n",
              "      border-top-color: var(--fill-color);\n",
              "      border-right-color: var(--fill-color);\n",
              "    }\n",
              "    40% {\n",
              "      border-color: transparent;\n",
              "      border-right-color: var(--fill-color);\n",
              "      border-top-color: var(--fill-color);\n",
              "    }\n",
              "    60% {\n",
              "      border-color: transparent;\n",
              "      border-right-color: var(--fill-color);\n",
              "    }\n",
              "    80% {\n",
              "      border-color: transparent;\n",
              "      border-right-color: var(--fill-color);\n",
              "      border-bottom-color: var(--fill-color);\n",
              "    }\n",
              "    90% {\n",
              "      border-color: transparent;\n",
              "      border-bottom-color: var(--fill-color);\n",
              "    }\n",
              "  }\n",
              "</style>\n",
              "\n",
              "      <script>\n",
              "        async function quickchart(key) {\n",
              "          const quickchartButtonEl =\n",
              "            document.querySelector('#' + key + ' button');\n",
              "          quickchartButtonEl.disabled = true;  // To prevent multiple clicks.\n",
              "          quickchartButtonEl.classList.add('colab-df-spinner');\n",
              "          try {\n",
              "            const charts = await google.colab.kernel.invokeFunction(\n",
              "                'suggestCharts', [key], {});\n",
              "          } catch (error) {\n",
              "            console.error('Error during call to suggestCharts:', error);\n",
              "          }\n",
              "          quickchartButtonEl.classList.remove('colab-df-spinner');\n",
              "          quickchartButtonEl.classList.add('colab-df-quickchart-complete');\n",
              "        }\n",
              "        (() => {\n",
              "          let quickchartButtonEl =\n",
              "            document.querySelector('#df-ab9b7a7f-f844-4c5b-b05c-18a0a164a69a button');\n",
              "          quickchartButtonEl.style.display =\n",
              "            google.colab.kernel.accessAllowed ? 'block' : 'none';\n",
              "        })();\n",
              "      </script>\n",
              "    </div>\n",
              "\n",
              "    </div>\n",
              "  </div>\n"
            ],
            "application/vnd.google.colaboratory.intrinsic+json": {
              "type": "dataframe",
              "variable_name": "data",
              "summary": "{\n  \"name\": \"data\",\n  \"rows\": 1082,\n  \"fields\": [\n    {\n      \"column\": \"Product\",\n      \"properties\": {\n        \"dtype\": \"string\",\n        \"num_unique_values\": 817,\n        \"samples\": [\n          \"Coors Light\",\n          \"Meantime Helles Lager\",\n          \"Einstok Pale Ale\"\n        ],\n        \"semantic_type\": \"\",\n        \"description\": \"\"\n      }\n    },\n    {\n      \"column\": \"Brand\",\n      \"properties\": {\n        \"dtype\": \"category\",\n        \"num_unique_values\": 281,\n        \"samples\": [\n          \"Oakham Ales\",\n          \"Kwak\",\n          \"Sxollie\"\n        ],\n        \"semantic_type\": \"\",\n        \"description\": \"\"\n      }\n    },\n    {\n      \"column\": \"Category\",\n      \"properties\": {\n        \"dtype\": \"category\",\n        \"num_unique_values\": 2,\n        \"samples\": [\n          \"Cider\",\n          \"Beer\"\n        ],\n        \"semantic_type\": \"\",\n        \"description\": \"\"\n      }\n    },\n    {\n      \"column\": \"Style\",\n      \"properties\": {\n        \"dtype\": \"category\",\n        \"num_unique_values\": 30,\n        \"samples\": [\n          \"Abbey Beer\",\n          \"Sour Beer\"\n        ],\n        \"semantic_type\": \"\",\n        \"description\": \"\"\n      }\n    },\n    {\n      \"column\": \"Quantity\",\n      \"properties\": {\n        \"dtype\": \"number\",\n        \"std\": 195,\n        \"min\": 1,\n        \"max\": 750,\n        \"num_unique_values\": 23,\n        \"samples\": [\n          450,\n          300\n        ],\n        \"semantic_type\": \"\",\n        \"description\": \"\"\n      }\n    },\n    {\n      \"column\": \"Quantity Units\",\n      \"properties\": {\n        \"dtype\": \"category\",\n        \"num_unique_values\": 3,\n        \"samples\": [\n          \"ml\",\n          \"pint\"\n        ],\n        \"semantic_type\": \"\",\n        \"description\": \"\"\n      }\n    },\n    {\n      \"column\": \"Volume\",\n      \"properties\": {\n        \"dtype\": \"number\",\n        \"std\": 113,\n        \"min\": 250,\n        \"max\": 750,\n        \"num_unique_values\": 19,\n        \"samples\": [\n          330,\n          750\n        ],\n        \"semantic_type\": \"\",\n        \"description\": \"\"\n      }\n    },\n    {\n      \"column\": \"Package\",\n      \"properties\": {\n        \"dtype\": \"category\",\n        \"num_unique_values\": 4,\n        \"samples\": [\n          \"can\",\n          \"aluminium bottle\"\n        ],\n        \"semantic_type\": \"\",\n        \"description\": \"\"\n      }\n    },\n    {\n      \"column\": \"ABV\",\n      \"properties\": {\n        \"dtype\": \"number\",\n        \"std\": 1.1330898507512555,\n        \"min\": 0.0,\n        \"max\": 11.2,\n        \"num_unique_values\": 62,\n        \"samples\": [\n          6.2,\n          2.8\n        ],\n        \"semantic_type\": \"\",\n        \"description\": \"\"\n      }\n    },\n    {\n      \"column\": \"Units of Alcohol\",\n      \"properties\": {\n        \"dtype\": \"number\",\n        \"std\": 0.6813323225672981,\n        \"min\": 0.0,\n        \"max\": 8.4,\n        \"num_unique_values\": 43,\n        \"samples\": [\n          6.9,\n          1.6\n        ],\n        \"semantic_type\": \"\",\n        \"description\": \"\"\n      }\n    },\n    {\n      \"column\": \"Units (4 Decimal Places)\",\n      \"properties\": {\n        \"dtype\": \"number\",\n        \"std\": 0.6838073395333042,\n        \"min\": 0.0,\n        \"max\": 8.4,\n        \"num_unique_values\": 176,\n        \"samples\": [\n          1.7395,\n          2.3856\n        ],\n        \"semantic_type\": \"\",\n        \"description\": \"\"\n      }\n    },\n    {\n      \"column\": \"Units per 100ml\",\n      \"properties\": {\n        \"dtype\": \"number\",\n        \"std\": 0.11330898507512592,\n        \"min\": 0.0,\n        \"max\": 1.12,\n        \"num_unique_values\": 62,\n        \"samples\": [\n          0.62,\n          0.28\n        ],\n        \"semantic_type\": \"\",\n        \"description\": \"\"\n      }\n    }\n  ]\n}"
            }
          },
          "metadata": {},
          "execution_count": 7
        }
      ]
    },
    {
      "cell_type": "code",
      "source": [
        "sns.histplot(data['ABV'])"
      ],
      "metadata": {
        "colab": {
          "base_uri": "https://localhost:8080/",
          "height": 466
        },
        "id": "TErgxsvRasxj",
        "outputId": "a662b51b-87e0-4226-a838-310ae2953a90"
      },
      "execution_count": null,
      "outputs": [
        {
          "output_type": "execute_result",
          "data": {
            "text/plain": [
              "<Axes: xlabel='ABV', ylabel='Count'>"
            ]
          },
          "metadata": {},
          "execution_count": 8
        },
        {
          "output_type": "display_data",
          "data": {
            "text/plain": [
              "<Figure size 640x480 with 1 Axes>"
            ],
            "image/png": "[encoded data removed]"
          },
          "metadata": {}
        }
      ]
    },
    {
      "cell_type": "markdown",
      "source": [
        "Looks like a right skewed chart lets check skewness"
      ],
      "metadata": {
        "id": "vkYOsLdgbUH8"
      }
    },
    {
      "cell_type": "code",
      "source": [
        "data['ABV'].skew().item()"
      ],
      "metadata": {
        "colab": {
          "base_uri": "https://localhost:8080/"
        },
        "id": "PD5-h9FcazdZ",
        "outputId": "38ecf5c3-d935-4bc0-b9e5-414de59bd974"
      },
      "execution_count": null,
      "outputs": [
        {
          "output_type": "execute_result",
          "data": {
            "text/plain": [
              "0.11155685704847605"
            ]
          },
          "metadata": {},
          "execution_count": 10
        }
      ]
    },
    {
      "cell_type": "markdown",
      "source": [
        "The skeweness is positive so this is positively skewed that means that is rightly skewed chart (tail in the right is longer than left )"
      ],
      "metadata": {
        "id": "LqPkaUlybyrF"
      }
    },
    {
      "cell_type": "code",
      "source": [
        "sns.histplot(data['Volume'])"
      ],
      "metadata": {
        "colab": {
          "base_uri": "https://localhost:8080/",
          "height": 466
        },
        "id": "ea5mpPd2bwXc",
        "outputId": "e92b845f-d630-44b3-ed3f-fb448519a07c"
      },
      "execution_count": null,
      "outputs": [
        {
          "output_type": "execute_result",
          "data": {
            "text/plain": [
              "<Axes: xlabel='Volume', ylabel='Count'>"
            ]
          },
          "metadata": {},
          "execution_count": 12
        },
        {
          "output_type": "display_data",
          "data": {
            "text/plain": [
              "<Figure size 640x480 with 1 Axes>"
            ],
            "image/png": "[encoded data removed]"
          },
          "metadata": {}
        }
      ]
    },
    {
      "cell_type": "code",
      "source": [
        "data['Volume'].skew().item()"
      ],
      "metadata": {
        "colab": {
          "base_uri": "https://localhost:8080/"
        },
        "id": "U_g3MqzocU66",
        "outputId": "69a4123d-952c-4fab-abd7-80ef58097eb0"
      },
      "execution_count": null,
      "outputs": [
        {
          "output_type": "execute_result",
          "data": {
            "text/plain": [
              "-0.04062637451302354"
            ]
          },
          "metadata": {},
          "execution_count": 13
        }
      ]
    },
    {
      "cell_type": "markdown",
      "source": [
        "Here volume is negatively skewed and that mean it is left skewed chart"
      ],
      "metadata": {
        "id": "M5IXP7JQcjCt"
      }
    },
    {
      "cell_type": "markdown",
      "source": [
        "#**Creating random data**"
      ],
      "metadata": {
        "id": "108Up8QHcyA1"
      }
    },
    {
      "cell_type": "code",
      "source": [
        "rand_dat= np.random.normal(0,50,50)\n",
        "rand_dat"
      ],
      "metadata": {
        "colab": {
          "base_uri": "https://localhost:8080/"
        },
        "id": "IOHE5x7icgxS",
        "outputId": "426f2068-701e-4b7d-e86e-6f55311c111d"
      },
      "execution_count": null,
      "outputs": [
        {
          "output_type": "execute_result",
          "data": {
            "text/plain": [
              "array([ -60.66534441,   -3.33339281,  -24.67749917,    6.59555482,\n",
              "        -57.40765156,   43.94238876, -141.29420958,   59.32654994,\n",
              "         37.73519318,   20.69910822,  -10.68257968,   -7.75301565,\n",
              "        -37.01604999,   97.63073785,   51.863723  ,   10.38354399,\n",
              "        -15.42544512,  -56.29738208,   -8.37196933,   36.44464621,\n",
              "        -35.98025142,   58.46480898,    6.52265734,   53.44036657,\n",
              "        -59.81915204, -107.83213125,   -3.78802667,  -62.20431208,\n",
              "        -68.08729746,  -49.81254868,   45.03320241,   15.32713831,\n",
              "         19.76127462,  -66.32961906,    3.61270709,   80.34326191,\n",
              "        -10.00955658,  -33.49096933,   91.11429741,  -36.17141066,\n",
              "          4.13118768,    5.08980675,   39.98277446,   92.00843945,\n",
              "          4.55944832,  -23.06432629,   52.29174258,   14.75602492,\n",
              "        -71.0847862 ,   31.12877502])"
            ]
          },
          "metadata": {},
          "execution_count": 39
        }
      ]
    },
    {
      "cell_type": "markdown",
      "source": [
        "Saving this data into dataframe"
      ],
      "metadata": {
        "id": "g0lg2tQQdbow"
      }
    },
    {
      "cell_type": "code",
      "source": [
        "df= pd.DataFrame({\"x\":rand_dat})\n",
        "df.head()"
      ],
      "metadata": {
        "colab": {
          "base_uri": "https://localhost:8080/",
          "height": 176
        },
        "id": "p9fAv1KrdPyo",
        "outputId": "b2f5023f-4da3-4c57-defa-5e5d5fe49db6"
      },
      "execution_count": null,
      "outputs": [
        {
          "output_type": "error",
          "ename": "TypeError",
          "evalue": "'int' object is not callable",
          "traceback": [
            "\u001b[0;31m---------------------------------------------------------------------------\u001b[0m",
            "\u001b[0;31mTypeError\u001b[0m                                 Traceback (most recent call last)",
            "\u001b[0;32m<ipython-input-44-77017f3406d5>\u001b[0m in \u001b[0;36m<cell line: 0>\u001b[0;34m()\u001b[0m\n\u001b[1;32m      1\u001b[0m \u001b[0mdf\u001b[0m\u001b[0;34m=\u001b[0m \u001b[0mpd\u001b[0m\u001b[0;34m.\u001b[0m\u001b[0mDataFrame\u001b[0m\u001b[0;34m(\u001b[0m\u001b[0;34m{\u001b[0m\u001b[0;34m\"x\"\u001b[0m\u001b[0;34m:\u001b[0m\u001b[0mrand_dat\u001b[0m\u001b[0;34m}\u001b[0m\u001b[0;34m)\u001b[0m\u001b[0;34m\u001b[0m\u001b[0;34m\u001b[0m\u001b[0m\n\u001b[1;32m      2\u001b[0m \u001b[0mdf\u001b[0m\u001b[0;34m.\u001b[0m\u001b[0mhead\u001b[0m\u001b[0;34m(\u001b[0m\u001b[0;34m)\u001b[0m\u001b[0;34m\u001b[0m\u001b[0;34m\u001b[0m\u001b[0m\n\u001b[0;32m----> 3\u001b[0;31m \u001b[0mdf\u001b[0m\u001b[0;34m.\u001b[0m\u001b[0msize\u001b[0m\u001b[0;34m(\u001b[0m\u001b[0;34m)\u001b[0m\u001b[0;34m\u001b[0m\u001b[0;34m\u001b[0m\u001b[0m\n\u001b[0m",
            "\u001b[0;31mTypeError\u001b[0m: 'int' object is not callable"
          ]
        }
      ]
    },
    {
      "cell_type": "code",
      "source": [
        "df[\"x\"].mean()"
      ],
      "metadata": {
        "colab": {
          "base_uri": "https://localhost:8080/"
        },
        "id": "U2aWbSyceLyl",
        "outputId": "d83baf37-e486-4896-a670-ed12db323c69"
      },
      "execution_count": null,
      "outputs": [
        {
          "output_type": "execute_result",
          "data": {
            "text/plain": [
              "np.float64(-1.3681913459164117)"
            ]
          },
          "metadata": {},
          "execution_count": 41
        }
      ]
    },
    {
      "cell_type": "code",
      "source": [
        "df['x'].std()"
      ],
      "metadata": {
        "colab": {
          "base_uri": "https://localhost:8080/"
        },
        "id": "tus8AKrBeg33",
        "outputId": "aac0c61d-0b79-4ee3-a53b-33168f38df6f"
      },
      "execution_count": null,
      "outputs": [
        {
          "output_type": "execute_result",
          "data": {
            "text/plain": [
              "51.764342869494236"
            ]
          },
          "metadata": {},
          "execution_count": 42
        }
      ]
    },
    {
      "cell_type": "code",
      "source": [
        "df['x'].skew()"
      ],
      "metadata": {
        "colab": {
          "base_uri": "https://localhost:8080/"
        },
        "id": "hwWVIzkMdjpX",
        "outputId": "6dfcdb3e-92b3-43ee-ece8-d9c61606405f"
      },
      "execution_count": null,
      "outputs": [
        {
          "output_type": "execute_result",
          "data": {
            "text/plain": [
              "np.float64(-0.2547111530283926)"
            ]
          },
          "metadata": {},
          "execution_count": 43
        }
      ]
    },
    {
      "cell_type": "code",
      "source": [
        "sns.histplot(df['x'])"
      ],
      "metadata": {
        "colab": {
          "base_uri": "https://localhost:8080/",
          "height": 466
        },
        "id": "2ZsIp-xEd8B9",
        "outputId": "0039f66b-7169-4ec7-ce94-b8ffedb09372"
      },
      "execution_count": null,
      "outputs": [
        {
          "output_type": "execute_result",
          "data": {
            "text/plain": [
              "<Axes: xlabel='x', ylabel='Count'>"
            ]
          },
          "metadata": {},
          "execution_count": 47
        },
        {
          "output_type": "display_data",
          "data": {
            "text/plain": [
              "<Figure size 640x480 with 1 Axes>"
            ],
            "image/png": "[encoded data removed]"
          },
          "metadata": {}
        }
      ]
    },
    {
      "cell_type": "code",
      "source": [
        "mean=df['x'].mean()\n",
        "median=df['x'].median()\n",
        "mode=df['x'].mode()\n",
        "mean,median,mode"
      ],
      "metadata": {
        "colab": {
          "base_uri": "https://localhost:8080/"
        },
        "id": "RROTz7Wde-KY",
        "outputId": "5b8983ad-4803-4346-f5ac-092ad5da6f57"
      },
      "execution_count": null,
      "outputs": [
        {
          "output_type": "execute_result",
          "data": {
            "text/plain": [
              "(np.float64(-1.3681913459164117),\n",
              " 3.8719473851426005,\n",
              " 0    -141.294210\n",
              " 1    -107.832131\n",
              " 2     -71.084786\n",
              " 3     -68.087297\n",
              " 4     -66.329619\n",
              " 5     -62.204312\n",
              " 6     -60.665344\n",
              " 7     -59.819152\n",
              " 8     -57.407652\n",
              " 9     -56.297382\n",
              " 10    -49.812549\n",
              " 11    -37.016050\n",
              " 12    -36.171411\n",
              " 13    -35.980251\n",
              " 14    -33.490969\n",
              " 15    -24.677499\n",
              " 16    -23.064326\n",
              " 17    -15.425445\n",
              " 18    -10.682580\n",
              " 19    -10.009557\n",
              " 20     -8.371969\n",
              " 21     -7.753016\n",
              " 22     -3.788027\n",
              " 23     -3.333393\n",
              " 24      3.612707\n",
              " 25      4.131188\n",
              " 26      4.559448\n",
              " 27      5.089807\n",
              " 28      6.522657\n",
              " 29      6.595555\n",
              " 30     10.383544\n",
              " 31     14.756025\n",
              " 32     15.327138\n",
              " 33     19.761275\n",
              " 34     20.699108\n",
              " 35     31.128775\n",
              " 36     36.444646\n",
              " 37     37.735193\n",
              " 38     39.982774\n",
              " 39     43.942389\n",
              " 40     45.033202\n",
              " 41     51.863723\n",
              " 42     52.291743\n",
              " 43     53.440367\n",
              " 44     58.464809\n",
              " 45     59.326550\n",
              " 46     80.343262\n",
              " 47     91.114297\n",
              " 48     92.008439\n",
              " 49     97.630738\n",
              " Name: x, dtype: float64)"
            ]
          },
          "metadata": {},
          "execution_count": 53
        }
      ]
    },
    {
      "cell_type": "code",
      "source": [],
      "metadata": {
        "id": "KuOqZNM4fttP"
      },
      "execution_count": null,
      "outputs": []
    }
  ]
}